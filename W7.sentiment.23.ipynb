{
 "cells": [
  {
   "cell_type": "markdown",
   "metadata": {
    "tags": []
   },
   "source": [
    "# Sentiment Analysis using TextBlob (2023)\n",
    "### John Cartlidge, University of Bristol\n",
    "\n",
    "Here we look at some simple (and naive) approaches to perform sentiment analysis. \n",
    "\n",
    "This notebook requires the __TextBlob__ library: a non-adaptive noncommercial sentiment analyser that uses a classification model that was trained on a movie review corpus.\n",
    "\n",
    "For information TextBlob see: https://textblob.readthedocs.io/en/dev/\n",
    "\n",
    "Quick start guide: https://textblob.readthedocs.io/en/dev/quickstart.html"
   ]
  },
  {
   "cell_type": "markdown",
   "metadata": {},
   "source": [
    "## Required install\n",
    "\n",
    "This example requires `TextBlob` package for performing natural language processing and sentiment analysis. The code will not work without `TextBlob`. For installation details, see: \n",
    "> https://textblob.readthedocs.io/en/dev/install.html\n",
    "\n",
    "<br>\n",
    "\n",
    "For quick install using `pip`, issue the following commands on the command line:\n",
    "\n",
    "> `pip install -U textblob`\n",
    "\n",
    "> `python -m textblob.download_corpora`\n",
    "\n",
    "Note: to install from within Jupyter, use exclamation mark at the start of the line, e.g.:\n",
    "> `!pip install -U textblob`"
   ]
  },
  {
   "cell_type": "markdown",
   "metadata": {},
   "source": [
    "Now we can import TextBlob functions. Also, let's import pandas and matplotlib plyplot as we will be using these later. "
   ]
  },
  {
   "cell_type": "code",
   "execution_count": 2,
   "metadata": {},
   "outputs": [
    {
     "name": "stdout",
     "output_type": "stream",
     "text": [
      "Collecting textblob\n",
      "  Downloading textblob-0.18.0.post0-py3-none-any.whl.metadata (4.5 kB)\n",
      "Requirement already satisfied: nltk>=3.8 in c:\\users\\tibit\\anaconda3\\lib\\site-packages (from textblob) (3.9.1)\n",
      "Requirement already satisfied: click in c:\\users\\tibit\\anaconda3\\lib\\site-packages (from nltk>=3.8->textblob) (8.1.7)\n",
      "Requirement already satisfied: joblib in c:\\users\\tibit\\anaconda3\\lib\\site-packages (from nltk>=3.8->textblob) (1.2.0)\n",
      "Requirement already satisfied: regex>=2021.8.3 in c:\\users\\tibit\\anaconda3\\lib\\site-packages (from nltk>=3.8->textblob) (2023.10.3)\n",
      "Requirement already satisfied: tqdm in c:\\users\\tibit\\anaconda3\\lib\\site-packages (from nltk>=3.8->textblob) (4.65.0)\n",
      "Requirement already satisfied: colorama in c:\\users\\tibit\\anaconda3\\lib\\site-packages (from click->nltk>=3.8->textblob) (0.4.6)\n",
      "Downloading textblob-0.18.0.post0-py3-none-any.whl (626 kB)\n",
      "   ---------------------------------------- 0.0/626.3 kB ? eta -:--:--\n",
      "    --------------------------------------- 10.2/626.3 kB ? eta -:--:--\n",
      "   - ------------------------------------- 30.7/626.3 kB 435.7 kB/s eta 0:00:02\n",
      "   ----------- ---------------------------- 184.3/626.3 kB 1.9 MB/s eta 0:00:01\n",
      "   ---------------------------------------  624.6/626.3 kB 4.4 MB/s eta 0:00:01\n",
      "   ---------------------------------------- 626.3/626.3 kB 4.4 MB/s eta 0:00:00\n",
      "Installing collected packages: textblob\n",
      "Successfully installed textblob-0.18.0.post0\n"
     ]
    }
   ],
   "source": [
    "!pip install -U textblob\n",
    "\n",
    "from textblob import TextBlob\n",
    "import pandas as pd  \n",
    "import matplotlib.pyplot as plt "
   ]
  },
  {
   "cell_type": "markdown",
   "metadata": {},
   "source": [
    "# Document, sentence, and aspect-level sentiment analysis\n",
    "\n",
    "__Problem__: We want to analyse the sentiment of reviews for the MacBook Pro 13 inch.\n",
    "\n",
    "__Data__: We have access to online reviews. Here is an example:\n",
    "\n",
    "> __MacBook Review:__ I feel the latest laptop from Mac is really good overall. It has amazing resolution. The computer is really very sleek and can slide into bags easily. However, I feel the weight is a let down. The price is a bit expensive given the configurations (I would expect an SSD storage), however the processor seems really good."
   ]
  },
  {
   "cell_type": "markdown",
   "metadata": {},
   "source": [
    "Create a TextBlob containing the review text..."
   ]
  },
  {
   "cell_type": "code",
   "execution_count": 3,
   "metadata": {},
   "outputs": [],
   "source": [
    "review = TextBlob(\"I feel the latest laptop from Mac is really good overall. It has amazing resolution. The computer is really very sleek and can slide into bags easily. However, I feel the weight is a let down. The price is a bit expensive given the configurations (I would expect an SSD storage), however the processor seems really good.\")"
   ]
  },
  {
   "cell_type": "markdown",
   "metadata": {},
   "source": [
    "### __(1) Document-level sentiment analysis__: \n",
    "\n",
    "For document-level analysis, we can simply request the sentiment for the entire TExtBlob review..."
   ]
  },
  {
   "cell_type": "code",
   "execution_count": 4,
   "metadata": {},
   "outputs": [
    {
     "data": {
      "text/plain": [
       "Sentiment(polarity=0.27530864197530863, subjectivity=0.5691358024691358)"
      ]
     },
     "execution_count": 4,
     "metadata": {},
     "output_type": "execute_result"
    }
   ],
   "source": [
    "review.sentiment"
   ]
  },
  {
   "cell_type": "markdown",
   "metadata": {},
   "source": [
    "Sentiment returns a tuple containing:\n",
    "\n",
    "> polarity (+1 = extremely positive, 0 = neutral, -1 = extremely negative)\n",
    "\n",
    "> subjectivity (0 = objective, 1 = extremely subjective)\n"
   ]
  },
  {
   "cell_type": "markdown",
   "metadata": {},
   "source": [
    "We see this review is subjective (57%) and positive (0.28).\n",
    "\n",
    "> The high __subjectivity__ score shows that the review contains lots of opinions, e.g., \"I feel\", \"I would expect\", \"seems really good\". In contast, a low subjectivity (i.e., a high __objectivity__) score would occur when the document is more factual (e.g., \"Price is XXX, Size is XXX.)\n",
    "\n",
    "> The __positive__ sentiment score indicates that the opinions expressed in the document are positive overall; with phrases such as \"really good\", \"amazing\", and \"very sleek\" outweighing the negative sentiment expressed in phrases such as \"let down\" and \"bit expensive\".\n",
    "\n",
    "__Question:__ How accurate do you think this is? Do you agree?\n",
    "\n",
    "So, we could stop here. We have an overall idea about the sentiment expressed in the review. But can we learn any more? "
   ]
  },
  {
   "cell_type": "markdown",
   "metadata": {},
   "source": [
    "### __(2) Sentence-level sentiment analysis__: \n",
    "\n",
    "Let's look in more detail at each sentence in the review to see what we can discover. \n",
    "\n",
    "Define the following method to create a dataframe, with each row containing one sentence in the review. We then add columns to show the polarity score and subjectivity of the sentence."
   ]
  },
  {
   "cell_type": "code",
   "execution_count": 5,
   "metadata": {},
   "outputs": [],
   "source": [
    "'''\n",
    "Perform sentence-level sentiment analysis of text document\n",
    "\n",
    "review: TextBlob document text\n",
    "\n",
    "return: dataframe with columns {Sentence, Sentence Text, Polarity, Subjectivity}\n",
    "'''\n",
    "def get_sentence_sentiment_df(review):\n",
    "    \n",
    "    # Create a dataframe containing one row for each sentence in the review\n",
    "    # and include the sentiment polarity and subjectivity of each sentence \n",
    "    df = pd.DataFrame([s, str(s), s.polarity, s.subjectivity] for s in review.sentences)\n",
    "    \n",
    "    # Name the four columns in the dataframe \n",
    "    df.columns = ['Sentence','Text','Polarity','Subjectivity']\n",
    "        \n",
    "    return df"
   ]
  },
  {
   "cell_type": "markdown",
   "metadata": {},
   "source": [
    "Now, we can use the method above to create a dataframe of sentence-level sentiment analysis. Let's print the dataframe to the screen, ordered by polarity (so that sentences with the most positive sentiment appear at the top)..."
   ]
  },
  {
   "cell_type": "code",
   "execution_count": 11,
   "metadata": {},
   "outputs": [
    {
     "name": "stdout",
     "output_type": "stream",
     "text": [
      "Finished.\n"
     ]
    },
    {
     "name": "stderr",
     "output_type": "stream",
     "text": [
      "[nltk_data] Downloading package brown to\n",
      "[nltk_data]     C:\\Users\\tibit\\AppData\\Roaming\\nltk_data...\n",
      "[nltk_data]   Unzipping corpora\\brown.zip.\n",
      "[nltk_data] Downloading package punkt to\n",
      "[nltk_data]     C:\\Users\\tibit\\AppData\\Roaming\\nltk_data...\n",
      "[nltk_data]   Package punkt is already up-to-date!\n",
      "[nltk_data] Downloading package wordnet to\n",
      "[nltk_data]     C:\\Users\\tibit\\AppData\\Roaming\\nltk_data...\n",
      "[nltk_data] Downloading package averaged_perceptron_tagger to\n",
      "[nltk_data]     C:\\Users\\tibit\\AppData\\Roaming\\nltk_data...\n",
      "[nltk_data]   Unzipping taggers\\averaged_perceptron_tagger.zip.\n",
      "[nltk_data] Downloading package conll2000 to\n",
      "[nltk_data]     C:\\Users\\tibit\\AppData\\Roaming\\nltk_data...\n",
      "[nltk_data]   Unzipping corpora\\conll2000.zip.\n",
      "[nltk_data] Downloading package movie_reviews to\n",
      "[nltk_data]     C:\\Users\\tibit\\AppData\\Roaming\\nltk_data...\n",
      "[nltk_data]   Unzipping corpora\\movie_reviews.zip.\n"
     ]
    },
    {
     "ename": "MissingCorpusError",
     "evalue": "\nLooks like you are missing some required data for this feature.\n\nTo download the necessary data, simply run\n\n    python -m textblob.download_corpora\n\nor use the NLTK downloader to download the missing data: http://nltk.org/data.html\nIf this doesn't fix the problem, file an issue at https://github.com/sloria/TextBlob/issues.\n",
     "output_type": "error",
     "traceback": [
      "\u001b[1;31m---------------------------------------------------------------------------\u001b[0m",
      "\u001b[1;31mLookupError\u001b[0m                               Traceback (most recent call last)",
      "File \u001b[1;32mc:\\Users\\tibit\\anaconda3\\Lib\\site-packages\\textblob\\decorators.py:35\u001b[0m, in \u001b[0;36mrequires_nltk_corpus.<locals>.decorated\u001b[1;34m(*args, **kwargs)\u001b[0m\n\u001b[0;32m     34\u001b[0m \u001b[38;5;28;01mtry\u001b[39;00m:\n\u001b[1;32m---> 35\u001b[0m     \u001b[38;5;28;01mreturn\u001b[39;00m func(\u001b[38;5;241m*\u001b[39margs, \u001b[38;5;241m*\u001b[39m\u001b[38;5;241m*\u001b[39mkwargs)\n\u001b[0;32m     36\u001b[0m \u001b[38;5;28;01mexcept\u001b[39;00m \u001b[38;5;167;01mLookupError\u001b[39;00m \u001b[38;5;28;01mas\u001b[39;00m error:\n",
      "File \u001b[1;32mc:\\Users\\tibit\\anaconda3\\Lib\\site-packages\\textblob\\tokenizers.py:59\u001b[0m, in \u001b[0;36mSentenceTokenizer.tokenize\u001b[1;34m(self, text)\u001b[0m\n\u001b[0;32m     58\u001b[0m \u001b[38;5;250m\u001b[39m\u001b[38;5;124;03m\"\"\"Return a list of sentences.\"\"\"\u001b[39;00m\n\u001b[1;32m---> 59\u001b[0m \u001b[38;5;28;01mreturn\u001b[39;00m nltk\u001b[38;5;241m.\u001b[39mtokenize\u001b[38;5;241m.\u001b[39msent_tokenize(text)\n",
      "File \u001b[1;32mc:\\Users\\tibit\\anaconda3\\Lib\\site-packages\\nltk\\tokenize\\__init__.py:119\u001b[0m, in \u001b[0;36msent_tokenize\u001b[1;34m(text, language)\u001b[0m\n\u001b[0;32m    110\u001b[0m \u001b[38;5;250m\u001b[39m\u001b[38;5;124;03m\"\"\"\u001b[39;00m\n\u001b[0;32m    111\u001b[0m \u001b[38;5;124;03mReturn a sentence-tokenized copy of *text*,\u001b[39;00m\n\u001b[0;32m    112\u001b[0m \u001b[38;5;124;03musing NLTK's recommended sentence tokenizer\u001b[39;00m\n\u001b[1;32m   (...)\u001b[0m\n\u001b[0;32m    117\u001b[0m \u001b[38;5;124;03m:param language: the model name in the Punkt corpus\u001b[39;00m\n\u001b[0;32m    118\u001b[0m \u001b[38;5;124;03m\"\"\"\u001b[39;00m\n\u001b[1;32m--> 119\u001b[0m tokenizer \u001b[38;5;241m=\u001b[39m _get_punkt_tokenizer(language)\n\u001b[0;32m    120\u001b[0m \u001b[38;5;28;01mreturn\u001b[39;00m tokenizer\u001b[38;5;241m.\u001b[39mtokenize(text)\n",
      "File \u001b[1;32mc:\\Users\\tibit\\anaconda3\\Lib\\site-packages\\nltk\\tokenize\\__init__.py:105\u001b[0m, in \u001b[0;36m_get_punkt_tokenizer\u001b[1;34m(language)\u001b[0m\n\u001b[0;32m     98\u001b[0m \u001b[38;5;250m\u001b[39m\u001b[38;5;124;03m\"\"\"\u001b[39;00m\n\u001b[0;32m     99\u001b[0m \u001b[38;5;124;03mA constructor for the PunktTokenizer that utilizes\u001b[39;00m\n\u001b[0;32m    100\u001b[0m \u001b[38;5;124;03ma lru cache for performance.\u001b[39;00m\n\u001b[1;32m   (...)\u001b[0m\n\u001b[0;32m    103\u001b[0m \u001b[38;5;124;03m:type language: str\u001b[39;00m\n\u001b[0;32m    104\u001b[0m \u001b[38;5;124;03m\"\"\"\u001b[39;00m\n\u001b[1;32m--> 105\u001b[0m \u001b[38;5;28;01mreturn\u001b[39;00m PunktTokenizer(language)\n",
      "File \u001b[1;32mc:\\Users\\tibit\\anaconda3\\Lib\\site-packages\\nltk\\tokenize\\punkt.py:1744\u001b[0m, in \u001b[0;36mPunktTokenizer.__init__\u001b[1;34m(self, lang)\u001b[0m\n\u001b[0;32m   1743\u001b[0m PunktSentenceTokenizer\u001b[38;5;241m.\u001b[39m\u001b[38;5;21m__init__\u001b[39m(\u001b[38;5;28mself\u001b[39m)\n\u001b[1;32m-> 1744\u001b[0m \u001b[38;5;28mself\u001b[39m\u001b[38;5;241m.\u001b[39mload_lang(lang)\n",
      "File \u001b[1;32mc:\\Users\\tibit\\anaconda3\\Lib\\site-packages\\nltk\\tokenize\\punkt.py:1749\u001b[0m, in \u001b[0;36mPunktTokenizer.load_lang\u001b[1;34m(self, lang)\u001b[0m\n\u001b[0;32m   1747\u001b[0m \u001b[38;5;28;01mfrom\u001b[39;00m \u001b[38;5;21;01mnltk\u001b[39;00m\u001b[38;5;21;01m.\u001b[39;00m\u001b[38;5;21;01mdata\u001b[39;00m \u001b[38;5;28;01mimport\u001b[39;00m find\n\u001b[1;32m-> 1749\u001b[0m lang_dir \u001b[38;5;241m=\u001b[39m find(\u001b[38;5;124mf\u001b[39m\u001b[38;5;124m\"\u001b[39m\u001b[38;5;124mtokenizers/punkt_tab/\u001b[39m\u001b[38;5;132;01m{\u001b[39;00mlang\u001b[38;5;132;01m}\u001b[39;00m\u001b[38;5;124m/\u001b[39m\u001b[38;5;124m\"\u001b[39m)\n\u001b[0;32m   1750\u001b[0m \u001b[38;5;28mself\u001b[39m\u001b[38;5;241m.\u001b[39m_params \u001b[38;5;241m=\u001b[39m load_punkt_params(lang_dir)\n",
      "File \u001b[1;32mc:\\Users\\tibit\\anaconda3\\Lib\\site-packages\\nltk\\data.py:579\u001b[0m, in \u001b[0;36mfind\u001b[1;34m(resource_name, paths)\u001b[0m\n\u001b[0;32m    578\u001b[0m resource_not_found \u001b[38;5;241m=\u001b[39m \u001b[38;5;124mf\u001b[39m\u001b[38;5;124m\"\u001b[39m\u001b[38;5;130;01m\\n\u001b[39;00m\u001b[38;5;132;01m{\u001b[39;00msep\u001b[38;5;132;01m}\u001b[39;00m\u001b[38;5;130;01m\\n\u001b[39;00m\u001b[38;5;132;01m{\u001b[39;00mmsg\u001b[38;5;132;01m}\u001b[39;00m\u001b[38;5;130;01m\\n\u001b[39;00m\u001b[38;5;132;01m{\u001b[39;00msep\u001b[38;5;132;01m}\u001b[39;00m\u001b[38;5;130;01m\\n\u001b[39;00m\u001b[38;5;124m\"\u001b[39m\n\u001b[1;32m--> 579\u001b[0m \u001b[38;5;28;01mraise\u001b[39;00m \u001b[38;5;167;01mLookupError\u001b[39;00m(resource_not_found)\n",
      "\u001b[1;31mLookupError\u001b[0m: \n**********************************************************************\n  Resource \u001b[93mpunkt_tab\u001b[0m not found.\n  Please use the NLTK Downloader to obtain the resource:\n\n  \u001b[31m>>> import nltk\n  >>> nltk.download('punkt_tab')\n  \u001b[0m\n  For more information see: https://www.nltk.org/data.html\n\n  Attempted to load \u001b[93mtokenizers/punkt_tab/english/\u001b[0m\n\n  Searched in:\n    - 'C:\\\\Users\\\\tibit/nltk_data'\n    - 'c:\\\\Users\\\\tibit\\\\anaconda3\\\\nltk_data'\n    - 'c:\\\\Users\\\\tibit\\\\anaconda3\\\\share\\\\nltk_data'\n    - 'c:\\\\Users\\\\tibit\\\\anaconda3\\\\lib\\\\nltk_data'\n    - 'C:\\\\Users\\\\tibit\\\\AppData\\\\Roaming\\\\nltk_data'\n    - 'C:\\\\nltk_data'\n    - 'D:\\\\nltk_data'\n    - 'E:\\\\nltk_data'\n**********************************************************************\n",
      "\nThe above exception was the direct cause of the following exception:\n",
      "\u001b[1;31mMissingCorpusError\u001b[0m                        Traceback (most recent call last)",
      "Cell \u001b[1;32mIn[11], line 4\u001b[0m\n\u001b[0;32m      1\u001b[0m get_ipython()\u001b[38;5;241m.\u001b[39msystem(\u001b[38;5;124m'\u001b[39m\u001b[38;5;124mpython -m textblob.download_corpora\u001b[39m\u001b[38;5;124m'\u001b[39m)\n\u001b[0;32m      3\u001b[0m \u001b[38;5;66;03m# Create dataframe of sentence-level sentiment\u001b[39;00m\n\u001b[1;32m----> 4\u001b[0m sentence_df \u001b[38;5;241m=\u001b[39m get_sentence_sentiment_df(review)\u001b[38;5;241m.\u001b[39msort_values(by\u001b[38;5;241m=\u001b[39m\u001b[38;5;124m'\u001b[39m\u001b[38;5;124mPolarity\u001b[39m\u001b[38;5;124m'\u001b[39m,ascending\u001b[38;5;241m=\u001b[39m\u001b[38;5;28;01mFalse\u001b[39;00m)\n\u001b[0;32m      6\u001b[0m \u001b[38;5;66;03m# Order dataframe by polarity score\u001b[39;00m\n\u001b[0;32m      7\u001b[0m sentence_df\u001b[38;5;241m.\u001b[39msort_values(by\u001b[38;5;241m=\u001b[39m\u001b[38;5;124m'\u001b[39m\u001b[38;5;124mPolarity\u001b[39m\u001b[38;5;124m'\u001b[39m,ascending\u001b[38;5;241m=\u001b[39m\u001b[38;5;28;01mFalse\u001b[39;00m)\n",
      "Cell \u001b[1;32mIn[5], line 12\u001b[0m, in \u001b[0;36mget_sentence_sentiment_df\u001b[1;34m(review)\u001b[0m\n\u001b[0;32m      8\u001b[0m \u001b[38;5;28;01mdef\u001b[39;00m \u001b[38;5;21mget_sentence_sentiment_df\u001b[39m(review):\n\u001b[0;32m      9\u001b[0m     \n\u001b[0;32m     10\u001b[0m     \u001b[38;5;66;03m# Create a dataframe containing one row for each sentence in the review\u001b[39;00m\n\u001b[0;32m     11\u001b[0m     \u001b[38;5;66;03m# and include the sentiment polarity and subjectivity of each sentence \u001b[39;00m\n\u001b[1;32m---> 12\u001b[0m     df \u001b[38;5;241m=\u001b[39m pd\u001b[38;5;241m.\u001b[39mDataFrame([s, \u001b[38;5;28mstr\u001b[39m(s), s\u001b[38;5;241m.\u001b[39mpolarity, s\u001b[38;5;241m.\u001b[39msubjectivity] \u001b[38;5;28;01mfor\u001b[39;00m s \u001b[38;5;129;01min\u001b[39;00m review\u001b[38;5;241m.\u001b[39msentences)\n\u001b[0;32m     14\u001b[0m     \u001b[38;5;66;03m# Name the four columns in the dataframe \u001b[39;00m\n\u001b[0;32m     15\u001b[0m     df\u001b[38;5;241m.\u001b[39mcolumns \u001b[38;5;241m=\u001b[39m [\u001b[38;5;124m'\u001b[39m\u001b[38;5;124mSentence\u001b[39m\u001b[38;5;124m'\u001b[39m,\u001b[38;5;124m'\u001b[39m\u001b[38;5;124mText\u001b[39m\u001b[38;5;124m'\u001b[39m,\u001b[38;5;124m'\u001b[39m\u001b[38;5;124mPolarity\u001b[39m\u001b[38;5;124m'\u001b[39m,\u001b[38;5;124m'\u001b[39m\u001b[38;5;124mSubjectivity\u001b[39m\u001b[38;5;124m'\u001b[39m]\n",
      "File \u001b[1;32mc:\\Users\\tibit\\anaconda3\\Lib\\site-packages\\textblob\\decorators.py:23\u001b[0m, in \u001b[0;36mcached_property.__get__\u001b[1;34m(self, obj, cls)\u001b[0m\n\u001b[0;32m     21\u001b[0m \u001b[38;5;28;01mif\u001b[39;00m obj \u001b[38;5;129;01mis\u001b[39;00m \u001b[38;5;28;01mNone\u001b[39;00m:\n\u001b[0;32m     22\u001b[0m     \u001b[38;5;28;01mreturn\u001b[39;00m \u001b[38;5;28mself\u001b[39m\n\u001b[1;32m---> 23\u001b[0m value \u001b[38;5;241m=\u001b[39m obj\u001b[38;5;241m.\u001b[39m\u001b[38;5;18m__dict__\u001b[39m[\u001b[38;5;28mself\u001b[39m\u001b[38;5;241m.\u001b[39mfunc\u001b[38;5;241m.\u001b[39m\u001b[38;5;18m__name__\u001b[39m] \u001b[38;5;241m=\u001b[39m \u001b[38;5;28mself\u001b[39m\u001b[38;5;241m.\u001b[39mfunc(obj)\n\u001b[0;32m     24\u001b[0m \u001b[38;5;28;01mreturn\u001b[39;00m value\n",
      "File \u001b[1;32mc:\\Users\\tibit\\anaconda3\\Lib\\site-packages\\textblob\\blob.py:609\u001b[0m, in \u001b[0;36mTextBlob.sentences\u001b[1;34m(self)\u001b[0m\n\u001b[0;32m    606\u001b[0m \u001b[38;5;129m@cached_property\u001b[39m\n\u001b[0;32m    607\u001b[0m \u001b[38;5;28;01mdef\u001b[39;00m \u001b[38;5;21msentences\u001b[39m(\u001b[38;5;28mself\u001b[39m):\n\u001b[0;32m    608\u001b[0m \u001b[38;5;250m    \u001b[39m\u001b[38;5;124;03m\"\"\"Return list of :class:`Sentence <Sentence>` objects.\"\"\"\u001b[39;00m\n\u001b[1;32m--> 609\u001b[0m     \u001b[38;5;28;01mreturn\u001b[39;00m \u001b[38;5;28mself\u001b[39m\u001b[38;5;241m.\u001b[39m_create_sentence_objects()\n",
      "File \u001b[1;32mc:\\Users\\tibit\\anaconda3\\Lib\\site-packages\\textblob\\blob.py:652\u001b[0m, in \u001b[0;36mTextBlob._create_sentence_objects\u001b[1;34m(self)\u001b[0m\n\u001b[0;32m    650\u001b[0m \u001b[38;5;250m\u001b[39m\u001b[38;5;124;03m\"\"\"Returns a list of Sentence objects from the raw text.\"\"\"\u001b[39;00m\n\u001b[0;32m    651\u001b[0m sentence_objects \u001b[38;5;241m=\u001b[39m []\n\u001b[1;32m--> 652\u001b[0m sentences \u001b[38;5;241m=\u001b[39m sent_tokenize(\u001b[38;5;28mself\u001b[39m\u001b[38;5;241m.\u001b[39mraw)\n\u001b[0;32m    653\u001b[0m char_index \u001b[38;5;241m=\u001b[39m \u001b[38;5;241m0\u001b[39m  \u001b[38;5;66;03m# Keeps track of character index within the blob\u001b[39;00m\n\u001b[0;32m    654\u001b[0m \u001b[38;5;28;01mfor\u001b[39;00m sent \u001b[38;5;129;01min\u001b[39;00m sentences:\n\u001b[0;32m    655\u001b[0m     \u001b[38;5;66;03m# Compute the start and end indices of the sentence\u001b[39;00m\n\u001b[0;32m    656\u001b[0m     \u001b[38;5;66;03m# within the blob\u001b[39;00m\n",
      "File \u001b[1;32mc:\\Users\\tibit\\anaconda3\\Lib\\site-packages\\textblob\\base.py:67\u001b[0m, in \u001b[0;36mBaseTokenizer.itokenize\u001b[1;34m(self, text, *args, **kwargs)\u001b[0m\n\u001b[0;32m     60\u001b[0m \u001b[38;5;28;01mdef\u001b[39;00m \u001b[38;5;21mitokenize\u001b[39m(\u001b[38;5;28mself\u001b[39m, text, \u001b[38;5;241m*\u001b[39margs, \u001b[38;5;241m*\u001b[39m\u001b[38;5;241m*\u001b[39mkwargs):\n\u001b[0;32m     61\u001b[0m \u001b[38;5;250m    \u001b[39m\u001b[38;5;124;03m\"\"\"Return a generator that generates tokens \"on-demand\".\u001b[39;00m\n\u001b[0;32m     62\u001b[0m \n\u001b[0;32m     63\u001b[0m \u001b[38;5;124;03m    .. versionadded:: 0.6.0\u001b[39;00m\n\u001b[0;32m     64\u001b[0m \n\u001b[0;32m     65\u001b[0m \u001b[38;5;124;03m    :rtype: generator\u001b[39;00m\n\u001b[0;32m     66\u001b[0m \u001b[38;5;124;03m    \"\"\"\u001b[39;00m\n\u001b[1;32m---> 67\u001b[0m     \u001b[38;5;28;01mreturn\u001b[39;00m (t \u001b[38;5;28;01mfor\u001b[39;00m t \u001b[38;5;129;01min\u001b[39;00m \u001b[38;5;28mself\u001b[39m\u001b[38;5;241m.\u001b[39mtokenize(text, \u001b[38;5;241m*\u001b[39margs, \u001b[38;5;241m*\u001b[39m\u001b[38;5;241m*\u001b[39mkwargs))\n",
      "File \u001b[1;32mc:\\Users\\tibit\\anaconda3\\Lib\\site-packages\\textblob\\decorators.py:37\u001b[0m, in \u001b[0;36mrequires_nltk_corpus.<locals>.decorated\u001b[1;34m(*args, **kwargs)\u001b[0m\n\u001b[0;32m     35\u001b[0m     \u001b[38;5;28;01mreturn\u001b[39;00m func(\u001b[38;5;241m*\u001b[39margs, \u001b[38;5;241m*\u001b[39m\u001b[38;5;241m*\u001b[39mkwargs)\n\u001b[0;32m     36\u001b[0m \u001b[38;5;28;01mexcept\u001b[39;00m \u001b[38;5;167;01mLookupError\u001b[39;00m \u001b[38;5;28;01mas\u001b[39;00m error:\n\u001b[1;32m---> 37\u001b[0m     \u001b[38;5;28;01mraise\u001b[39;00m MissingCorpusError() \u001b[38;5;28;01mfrom\u001b[39;00m \u001b[38;5;21;01merror\u001b[39;00m\n",
      "\u001b[1;31mMissingCorpusError\u001b[0m: \nLooks like you are missing some required data for this feature.\n\nTo download the necessary data, simply run\n\n    python -m textblob.download_corpora\n\nor use the NLTK downloader to download the missing data: http://nltk.org/data.html\nIf this doesn't fix the problem, file an issue at https://github.com/sloria/TextBlob/issues.\n"
     ]
    }
   ],
   "source": [
    "import nltk\n",
    "nltk.download('punkt') \n",
    "\n",
    "# Create dataframe of sentence-level sentiment\n",
    "sentence_df = get_sentence_sentiment_df(review).sort_values(by='Polarity',ascending=False)\n",
    "\n",
    "# Order dataframe by polarity score\n",
    "sentence_df.sort_values(by='Polarity',ascending=False)"
   ]
  },
  {
   "cell_type": "markdown",
   "metadata": {},
   "source": [
    "We see that there are five sentences. The sentence with the highest polarity (row id=1) is \"It has amazing resolution\". So, we can see that the review has positive sentiment towards the resolution of the macbook.\n",
    "\n",
    "The sentence with the lowest polarity is \"However, I feel the weight is a let down\". Therefore, the review contains negative sentiment towards the weight of the macbook.\n",
    "\n",
    "By drilling down to the sentence level, we have been able to discover more detail about exactly what the author of the review likes and does not like about the macbook. But can we do more? What about sentence id 4? Let's have a look at this sentence in full..."
   ]
  },
  {
   "cell_type": "code",
   "execution_count": 27,
   "metadata": {},
   "outputs": [
    {
     "data": {
      "text/plain": [
       "'The price is a bit expensive given the configurations (I would expect an SSD storage), however the processor seems really good.'"
      ]
     },
     "execution_count": 27,
     "metadata": {},
     "output_type": "execute_result"
    }
   ],
   "source": [
    "# print the text of sentence 4\n",
    "sentence_df.loc[4]['Text']"
   ]
  },
  {
   "cell_type": "markdown",
   "metadata": {},
   "source": [
    "Sentence four has polarity 0.1 (slightly positive). However, it is clear that there are multiple aspects of the mac being discussed (i.e., price, storiage, processor). Can we analyse the text more deeply to understand the sentiment for each of these indvidual aspects?   "
   ]
  },
  {
   "cell_type": "markdown",
   "metadata": {},
   "source": [
    "### __(3) Aspect-level sentiment analysis__\n",
    "\n",
    "Here, we will try to split sentences to determine the sentiment of each aspect mentioned in a sentence. The approach we will take is very simple and is __not__ the best way to do this; it is purely an example.\n",
    "\n",
    "We will take the following approach:\n",
    "> (a) Generate a list of \"aspect\" words that describe the product<br>\n",
    "> (b) For each sentence, find aspects in the sentence<br>\n",
    "> (c) If there are multiple aspects, split the sentence at the mid-point between aspects<br>\n",
    "> (d) Get the sentiment of the part of sentence associated with each aspect word<br>\n",
    "> (e) Take the mean sentiment value of each aspect word found in the full review text<br>\n",
    "\n",
    "This approach does not account for grammar or sentiment shifters (\"but\", \"not\", etc.) or any other parts of speech that could help us; but as a rough-and-ready first approach, let's see how it performs..."
   ]
  },
  {
   "cell_type": "markdown",
   "metadata": {},
   "source": [
    "#### 3(a) Create list of aspects\n",
    "\n",
    "We could generate our own list of aspects. However, to make our life simple, we will simply use the headings from the MakBook technical specification (https://www.apple.com/uk/macbook-pro-13/specs/). This gives us the following list:\n",
    "\n",
    "> __MacBook Aspects:__ Price, Display, Processor, Storage, Memory, Graphics, Charging, Expansion, Keyboard, Trackpad, Wireless, Camera, Video, Audio, Battery, Power, Size, Weight "
   ]
  },
  {
   "cell_type": "code",
   "execution_count": 28,
   "metadata": {},
   "outputs": [],
   "source": [
    "# Create a list of aspects\n",
    "mac_aspects = ['price', 'display', 'resolution', 'processor', 'storage', 'memory', 'graphics', 'charging', \n",
    "           'expansion', 'keyboard', 'trackpad', 'wireless', 'camera', 'video', \n",
    "           'audio', 'battery', 'power', 'size', 'weight']"
   ]
  },
  {
   "cell_type": "markdown",
   "metadata": {},
   "source": [
    "#### 3(b) Find aspects mentioned in each sentence\n",
    "\n",
    "Next, we need to search each sentence to see if any aspects are mentioned. The following function will take the sentence-level dataframe and append a column containing aspects that are mentioned in each sentence..."
   ]
  },
  {
   "cell_type": "code",
   "execution_count": 29,
   "metadata": {},
   "outputs": [],
   "source": [
    "'''\n",
    " Append a column of aspects contained in each sentence\n",
    " Return dataframe with aspects\n",
    "\n",
    "sentence_df : sentence level dataframe, where each row is a sentence\n",
    "aspects : list of aspects to find in each sentence\n",
    " '''\n",
    "def append_aspects_column(df,aspects):\n",
    "\n",
    "      # Iterate through each sentence and each aspect; \n",
    "      # add aspects that appear in sentence to aspects list\n",
    "    if aspects!=None:\n",
    "        aspects_list = [] \n",
    "        for s in df['Sentence']:\n",
    "            aspect = []\n",
    "            if any(a in aspects for a in s.words):\n",
    "                #print(\"An aspect exists in sentence: \", s)       \n",
    "                # we want this to be in order of appearance of aspect in sentence, not alphabetically\n",
    "                for w in s.words:\n",
    "                    if w in aspects:\n",
    "                        aspect.append(w) # list of aspects that appear in sentence s\n",
    "\n",
    "            aspects_list.append(aspect) # column of aspect lists (one for each sentence)\n",
    "            \n",
    "        # Add the list of aspects mentioned in sentence as a new column in the dataframe    \n",
    "        df['Aspects'] = aspects_list\n",
    "    \n",
    "    return df\n"
   ]
  },
  {
   "cell_type": "code",
   "execution_count": 30,
   "metadata": {},
   "outputs": [
    {
     "data": {
      "text/html": [
       "<div>\n",
       "<style scoped>\n",
       "    .dataframe tbody tr th:only-of-type {\n",
       "        vertical-align: middle;\n",
       "    }\n",
       "\n",
       "    .dataframe tbody tr th {\n",
       "        vertical-align: top;\n",
       "    }\n",
       "\n",
       "    .dataframe thead th {\n",
       "        text-align: right;\n",
       "    }\n",
       "</style>\n",
       "<table border=\"1\" class=\"dataframe\">\n",
       "  <thead>\n",
       "    <tr style=\"text-align: right;\">\n",
       "      <th></th>\n",
       "      <th>Sentence</th>\n",
       "      <th>Text</th>\n",
       "      <th>Polarity</th>\n",
       "      <th>Subjectivity</th>\n",
       "      <th>Aspects</th>\n",
       "    </tr>\n",
       "  </thead>\n",
       "  <tbody>\n",
       "    <tr>\n",
       "      <th>1</th>\n",
       "      <td>(I, t,  , h, a, s,  , a, m, a, z, i, n, g,  , ...</td>\n",
       "      <td>It has amazing resolution.</td>\n",
       "      <td>0.600000</td>\n",
       "      <td>0.900000</td>\n",
       "      <td>[resolution]</td>\n",
       "    </tr>\n",
       "    <tr>\n",
       "      <th>0</th>\n",
       "      <td>(I,  , f, e, e, l,  , t, h, e,  , l, a, t, e, ...</td>\n",
       "      <td>I feel the latest laptop from Mac is really go...</td>\n",
       "      <td>0.400000</td>\n",
       "      <td>0.500000</td>\n",
       "      <td>[]</td>\n",
       "    </tr>\n",
       "    <tr>\n",
       "      <th>2</th>\n",
       "      <td>(T, h, e,  , c, o, m, p, u, t, e, r,  , i, s, ...</td>\n",
       "      <td>The computer is really very sleek and can slid...</td>\n",
       "      <td>0.316667</td>\n",
       "      <td>0.566667</td>\n",
       "      <td>[]</td>\n",
       "    </tr>\n",
       "    <tr>\n",
       "      <th>4</th>\n",
       "      <td>(T, h, e,  , p, r, i, c, e,  , i, s,  , a,  , ...</td>\n",
       "      <td>The price is a bit expensive given the configu...</td>\n",
       "      <td>0.100000</td>\n",
       "      <td>0.650000</td>\n",
       "      <td>[price, storage, processor]</td>\n",
       "    </tr>\n",
       "    <tr>\n",
       "      <th>3</th>\n",
       "      <td>(H, o, w, e, v, e, r, ,,  , I,  , f, e, e, l, ...</td>\n",
       "      <td>However, I feel the weight is a let down.</td>\n",
       "      <td>-0.155556</td>\n",
       "      <td>0.288889</td>\n",
       "      <td>[weight]</td>\n",
       "    </tr>\n",
       "  </tbody>\n",
       "</table>\n",
       "</div>"
      ],
      "text/plain": [
       "                                            Sentence  \\\n",
       "1  (I, t,  , h, a, s,  , a, m, a, z, i, n, g,  , ...   \n",
       "0  (I,  , f, e, e, l,  , t, h, e,  , l, a, t, e, ...   \n",
       "2  (T, h, e,  , c, o, m, p, u, t, e, r,  , i, s, ...   \n",
       "4  (T, h, e,  , p, r, i, c, e,  , i, s,  , a,  , ...   \n",
       "3  (H, o, w, e, v, e, r, ,,  , I,  , f, e, e, l, ...   \n",
       "\n",
       "                                                Text  Polarity  Subjectivity  \\\n",
       "1                         It has amazing resolution.  0.600000      0.900000   \n",
       "0  I feel the latest laptop from Mac is really go...  0.400000      0.500000   \n",
       "2  The computer is really very sleek and can slid...  0.316667      0.566667   \n",
       "4  The price is a bit expensive given the configu...  0.100000      0.650000   \n",
       "3          However, I feel the weight is a let down. -0.155556      0.288889   \n",
       "\n",
       "                       Aspects  \n",
       "1                 [resolution]  \n",
       "0                           []  \n",
       "2                           []  \n",
       "4  [price, storage, processor]  \n",
       "3                     [weight]  "
      ]
     },
     "execution_count": 30,
     "metadata": {},
     "output_type": "execute_result"
    }
   ],
   "source": [
    "# Find aspects in each sentence\n",
    "sentence_df =  append_aspects_column(sentence_df,mac_aspects)\n",
    "sentence_df"
   ]
  },
  {
   "cell_type": "markdown",
   "metadata": {},
   "source": [
    "#### 3(c) Split sentences with multiple aspects\n",
    "\n",
    "Some sentences contain multiple aspects. For instance, we see sentence 4 mentions \"price\", \"storage\", and \"processor\". To deal with this, let's simply find the location of each aspect and then split the sentence up at the mid-points between aspects. This will require a couple of steps..."
   ]
  },
  {
   "cell_type": "markdown",
   "metadata": {},
   "source": [
    "\n",
    "\n",
    "(i) Split the sentence into n-grams of size n. Convert to TextBlob strings to calculate the sentiment of each n-gram. Let's set: __n=3__ as a default.\n"
   ]
  },
  {
   "cell_type": "code",
   "execution_count": 31,
   "metadata": {},
   "outputs": [],
   "source": [
    "'''\n",
    "Convert a sentence to n-grams of size n. Return polarity for each n-gram as list\n",
    "\n",
    "return: ngram_polarities list\n",
    "'''\n",
    "def get_ngram_polarities(sentence,n=3):\n",
    "    \n",
    "    ngram_polarities = []\n",
    "    for i in sentence.ngrams(n):\n",
    "        ngram_string = \"\"\n",
    "        for word in i:\n",
    "            ngram_string += word + \" \"\n",
    "        ngram_polarities.append(TextBlob(ngram_string).polarity) # get polarity of n-gram string\n",
    "    \n",
    "    return ngram_polarities"
   ]
  },
  {
   "cell_type": "markdown",
   "metadata": {},
   "source": [
    "(ii) Find the index location of each aspect in the sentence, then find the ranges for each aspect (i.e., split the sentence at the mid-way point between each aspect location) "
   ]
  },
  {
   "cell_type": "code",
   "execution_count": 32,
   "metadata": {},
   "outputs": [],
   "source": [
    "'''\n",
    "Split a sentence using a aspects contained in a list. \n",
    "\n",
    "Find the location of aspects in the sentence, then split at the mid-point between aspect locations.\n",
    "\n",
    "return: \n",
    "range_end list containing start and end location of each split\n",
    "aspect_index list containing location of each aspect \n",
    "'''\n",
    "def get_range_ends(sentence,aspects,n=3,verbose=False):\n",
    "\n",
    "    index = 0\n",
    "    aspect_index = []\n",
    "    count = 0\n",
    "    last_index = 0\n",
    "\n",
    "    # hold the index of the mid-point between the index of each aspect location \n",
    "    range_end = [] \n",
    "\n",
    "    for i in range(len(sentence.words)):\n",
    "        for a in aspects:\n",
    "            if(a==sentence.words[i]):\n",
    "                if verbose: print(\"Aspect '\", a, \"' found at index: \", i)\n",
    "                aspect_index.append([a,i])\n",
    "                if count > 0:\n",
    "                    range_end.append(last_index + (i - last_index)/2)\n",
    "                    #print(\"Range end: \", range_end)\n",
    "                last_index = i\n",
    "                count += 1\n",
    "\n",
    "    #print(aspect_index)\n",
    "\n",
    "    # range end holds mid-point of indices between aspects. Round to integer value and add start and end.\n",
    "    for i in range(len(range_end)):\n",
    "        range_end[i] = round(range_end[i])\n",
    "    range_end.insert(0,0)\n",
    "    range_end.append(len(sentence.ngrams(n)))\n",
    "    # print(range_end)\n",
    "    return range_end, aspect_index"
   ]
  },
  {
   "cell_type": "markdown",
   "metadata": {},
   "source": [
    "We can now use the above to find the locations to split the sentence, using aspects found in the sentence, as follows:"
   ]
  },
  {
   "cell_type": "code",
   "execution_count": 33,
   "metadata": {},
   "outputs": [
    {
     "name": "stdout",
     "output_type": "stream",
     "text": [
      "The price is a bit expensive given the configurations (I would expect an SSD storage), however the processor seems really good.\n",
      "Split sentence at locations: ([0, 8, 16, 19], [['price', 1], ['storage', 14], ['processor', 17]])\n"
     ]
    }
   ],
   "source": [
    "sentence = review.sentences[4]\n",
    "#get list of start and end locations to split sentence, where aspects are in the middle of each range.\n",
    "print(sentence)\n",
    "print(\"Split sentence at locations:\", get_range_ends(sentence,mac_aspects,3,False))"
   ]
  },
  {
   "cell_type": "markdown",
   "metadata": {},
   "source": [
    "#### 3(d) Get the sentiment associated with each aspect word"
   ]
  },
  {
   "cell_type": "markdown",
   "metadata": {},
   "source": [
    "Let's do a simple hack: for all n-grams associated with an aspect, sum the maximum and minimum polarity..."
   ]
  },
  {
   "cell_type": "code",
   "execution_count": 34,
   "metadata": {},
   "outputs": [],
   "source": [
    "'''\n",
    "Calculate polarity for an aspect from range of polarities (sum the min and max values).\n",
    "\n",
    "    polarities: array of polarity scores\n",
    "    ranges: break points of ranges\n",
    "    \n",
    "    return: polarities array\n",
    "'''\n",
    "def get_aspect_polarity(polarities, range_end):\n",
    "    \n",
    "    pol = []\n",
    "    for a in range(len(range_end)-1):\n",
    "        pol.append(min(polarities[range_end[a]:range_end[a+1]]) + max(polarities[range_end[a]:range_end[a+1]]))\n",
    "    return pol "
   ]
  },
  {
   "cell_type": "markdown",
   "metadata": {},
   "source": [
    "And let's create a helper function to plot the sentiment of the sentence..."
   ]
  },
  {
   "cell_type": "code",
   "execution_count": 35,
   "metadata": {},
   "outputs": [],
   "source": [
    "''' Plot graph of sentence sentiment,with aspect words tagged\n",
    "\n",
    "    requires matplotlib.pyplot as plt\n",
    "\n",
    "    sentence = TextBlob Sentence\n",
    "    aspects = list of aspects\n",
    "    n = ngram length (default 3) '''\n",
    "def plot_sentence_sentiment_with_aspects(sentence,aspects,n=3):\n",
    "\n",
    "    # split sentence into n-grams of size n=3 and then calculate sentiment of each n-gram\n",
    "    n_gram_polarities = get_ngram_polarities(sentence,n)\n",
    "    # find aspect locations in the sentence and split sentence between aspects\n",
    "    range_ends, aspect_indexes = get_range_ends(sentence,aspects,3,False) \n",
    "    # get polarities for aspects\n",
    "    ap = get_aspect_polarity(n_gram_polarities,range_ends)\n",
    "\n",
    "    plt.plot(n_gram_polarities)\n",
    "    plt.title('Sentence sentiment with aspects labelled')\n",
    "    plt.xlabel(str(n)+\"-gram\")\n",
    "    plt.ylabel('polarity')\n",
    "    x = range(len(sentence.words))\n",
    "    plt.xticks(x,sentence.words,rotation=90)\n",
    "    \n",
    "    # write aspect labels and polarity at correct location\n",
    "    for i in range(len(aspect_indexes)):\n",
    "        plt.text(aspect_indexes[i][1],0.05,aspect_indexes[i][0]+\" = \"+str(ap[i]),rotation=\"vertical\",color=\"red\")\n",
    "    # draw vertica lines to signify region around each aspect word\n",
    "    for r in range_ends:\n",
    "        plt.axvline(x = r, color = 'r', label = 'axvline - full height')\n",
    "    plt.show()"
   ]
  },
  {
   "cell_type": "markdown",
   "metadata": {},
   "source": [
    "Let's see how it works..."
   ]
  },
  {
   "cell_type": "code",
   "execution_count": 36,
   "metadata": {},
   "outputs": [
    {
     "data": {
      "image/png": "[encoded data removed]",
      "text/plain": [
       "<Figure size 640x480 with 1 Axes>"
      ]
     },
     "metadata": {},
     "output_type": "display_data"
    }
   ],
   "source": [
    "sentence = review.sentences[4]\n",
    "plot_sentence_sentiment_with_aspects(sentence,mac_aspects,3)"
   ]
  },
  {
   "cell_type": "markdown",
   "metadata": {},
   "source": [
    "So, we will split the sentence into 3; each associated with an aspect:\n",
    "> Price: sentiment = -0.5. \"The __price__ is a bit expensive given the\"\n",
    "\n",
    "> Storage: sentiment = 0.0. \"configurations (I would expect an SSD __storage__), however\"\n",
    "\n",
    "> Processor: sentiment = +0.7. \"the __processor__ seems really good\"\n",
    "\n",
    "What do you think? It's not perfect, but it's not a bad start."
   ]
  },
  {
   "cell_type": "markdown",
   "metadata": {},
   "source": [
    "#### 3(e) Get mean sentiment for each aspect"
   ]
  },
  {
   "cell_type": "markdown",
   "metadata": {},
   "source": [
    "Now let's make a function to perform aspect-level sentiment for our full review. Save output as a dataframe.  "
   ]
  },
  {
   "cell_type": "markdown",
   "metadata": {},
   "source": [
    "The following method will take a dataframe of reviews, where each row is a sentence, and iterate over each row. If there are multiple aspects in the sentence, split the sentence to get aspect-level sentiment; drop rows with no aspects; and then return a dataframe of aspect-level sentiment. "
   ]
  },
  {
   "cell_type": "code",
   "execution_count": 37,
   "metadata": {},
   "outputs": [],
   "source": [
    "'''\n",
    "Get aspect level sentiment. \n",
    "\n",
    "Input: \n",
    "- review (Textblob) \n",
    "- aspects list\n",
    "\n",
    "Return: dataframe of aspect-level sentiment\n",
    "'''\n",
    "def get_aspect_sentiment_df(review,aspects):\n",
    "\n",
    "    # First create a dataframe of sentence sentiment\n",
    "    df = get_sentence_sentiment_df(review)\n",
    "    \n",
    "    # Have aspects been appended to sentences?\n",
    "    if not 'Activity' in df.columns:\n",
    "       append_aspects_column(df,aspects)    \n",
    "\n",
    "    # Create a new dataframe\n",
    "    df_aspect = pd.DataFrame()\n",
    "\n",
    "    # iterating over rows in sentence-level sentiment dataframe using iterrows() function  \n",
    "    for i, j in df.iterrows(): \n",
    "\n",
    "        if len(j['Aspects'])==1: # one aspect found in sentence, copy row\n",
    "            rowdict = {'Aspect':j['Aspects'][0],'Polarity':j['Polarity'],'Text':j['Text']}\n",
    "            df_row = pd.DataFrame(rowdict,index=[1])\n",
    "            df_aspect=pd.concat([df_aspect,df_row],ignore_index=False)\n",
    "\n",
    "        if len(j['Aspects'])>1: # multiple aspects found in sentence, split row\n",
    "\n",
    "            # get array of aspect polarities for sentence, using n-gram.\n",
    "            range_ends, aspects_index = get_range_ends(j['Sentence'],aspects,3)\n",
    "            pols = get_aspect_polarity(get_ngram_polarities(j['Sentence'],3),range_ends)\n",
    "            for p in range(len(pols)):\n",
    "                rowdict = {'Aspect':j['Aspects'][p],'Polarity':pols[p],'Text':j['Text']}\n",
    "                df_row = pd.DataFrame(rowdict,index=[1])\n",
    "                df_aspect=pd.concat([df_aspect,df_row],ignore_index=False)\n",
    "        \n",
    "    return df_aspect"
   ]
  },
  {
   "cell_type": "markdown",
   "metadata": {},
   "source": [
    "We can now use the above method to get aspect-level sentiment for the full review, ordered by polarity score..."
   ]
  },
  {
   "cell_type": "code",
   "execution_count": 38,
   "metadata": {},
   "outputs": [
    {
     "data": {
      "text/html": [
       "<div>\n",
       "<style scoped>\n",
       "    .dataframe tbody tr th:only-of-type {\n",
       "        vertical-align: middle;\n",
       "    }\n",
       "\n",
       "    .dataframe tbody tr th {\n",
       "        vertical-align: top;\n",
       "    }\n",
       "\n",
       "    .dataframe thead th {\n",
       "        text-align: right;\n",
       "    }\n",
       "</style>\n",
       "<table border=\"1\" class=\"dataframe\">\n",
       "  <thead>\n",
       "    <tr style=\"text-align: right;\">\n",
       "      <th></th>\n",
       "      <th>Aspect</th>\n",
       "      <th>Polarity</th>\n",
       "      <th>Text</th>\n",
       "    </tr>\n",
       "  </thead>\n",
       "  <tbody>\n",
       "    <tr>\n",
       "      <th>1</th>\n",
       "      <td>processor</td>\n",
       "      <td>0.700000</td>\n",
       "      <td>The price is a bit expensive given the configu...</td>\n",
       "    </tr>\n",
       "    <tr>\n",
       "      <th>1</th>\n",
       "      <td>resolution</td>\n",
       "      <td>0.600000</td>\n",
       "      <td>It has amazing resolution.</td>\n",
       "    </tr>\n",
       "    <tr>\n",
       "      <th>1</th>\n",
       "      <td>storage</td>\n",
       "      <td>0.000000</td>\n",
       "      <td>The price is a bit expensive given the configu...</td>\n",
       "    </tr>\n",
       "    <tr>\n",
       "      <th>1</th>\n",
       "      <td>weight</td>\n",
       "      <td>-0.155556</td>\n",
       "      <td>However, I feel the weight is a let down.</td>\n",
       "    </tr>\n",
       "    <tr>\n",
       "      <th>1</th>\n",
       "      <td>price</td>\n",
       "      <td>-0.500000</td>\n",
       "      <td>The price is a bit expensive given the configu...</td>\n",
       "    </tr>\n",
       "  </tbody>\n",
       "</table>\n",
       "</div>"
      ],
      "text/plain": [
       "       Aspect  Polarity                                               Text\n",
       "1   processor  0.700000  The price is a bit expensive given the configu...\n",
       "1  resolution  0.600000                         It has amazing resolution.\n",
       "1     storage  0.000000  The price is a bit expensive given the configu...\n",
       "1      weight -0.155556          However, I feel the weight is a let down.\n",
       "1       price -0.500000  The price is a bit expensive given the configu..."
      ]
     },
     "execution_count": 38,
     "metadata": {},
     "output_type": "execute_result"
    }
   ],
   "source": [
    "# Get aspect-level sentiment and order with highest polarity shown at the top\n",
    "aspect_df = get_aspect_sentiment_df(review,mac_aspects).sort_values(by='Polarity',ascending=False)\n",
    "aspect_df"
   ]
  },
  {
   "cell_type": "markdown",
   "metadata": {},
   "source": [
    "So, we now have a sentiment score for each aspect of the review. Our aspect-level sentiment analysis is complete. \n",
    "\n",
    "Let's remind ourselves of the original review text:\n",
    "\n",
    "> __MacBook Review__: I feel the latest laptop from Mac is really good overall. It has amazing resolution. The computer is really very sleek and can slide into bags easily. However, I feel the weight is a let down. The price is a bit expensive given the configurations (I would expect an SSD storage), however the processor seems really good.\n",
    "\n",
    "\n",
    "We can see that aspect-level sentiment analysis shows that the review is:\n",
    "\n",
    "> Very positive for __processor__ and __resolution__\n",
    "\n",
    "> Neutral on __storage__\n",
    "\n",
    "> Somewhat negative for __weight__\n",
    "\n",
    "> Negative for __price__\n",
    "\n",
    "\n",
    "__Question:__ How accurate does that seem to you? Is this approach useful?"
   ]
  },
  {
   "cell_type": "markdown",
   "metadata": {},
   "source": [
    "## Try it yourself.\n",
    "\n",
    "We can now perform document, sentence, and aspect level sentiment analysis with just a few python commands.\n",
    "\n",
    "`review` : TextBlob of review text\n",
    "\n",
    "`aspects` : list of aspect strings\n",
    "\n",
    "`get_sentence_sentiment_df(review)` : dataframe of sentence-level sentiment\n",
    "\n",
    "`get_aspect_sentiment_df(review,aspects)` : dataframe of aspect-level sentiment\n",
    "\n",
    "`plot_sentence_sentiment_with_aspects(sentence,aspects)` : plot sentiment of a sentence\n",
    "\n",
    "Let's try using these functions on some other reviews...\n"
   ]
  },
  {
   "cell_type": "markdown",
   "metadata": {},
   "source": [
    "### Long Review\n",
    "\n",
    "Let's try a real review for the MacBook. It is much longer than the example reviews we looked at before. \n",
    "\n",
    "> https://www.t3.com/reviews/new-macbook-review\n",
    "\n",
    "Enter code below to perform sentiment analysis of the review. What do you think of the result? Is it accurate?"
   ]
  },
  {
   "cell_type": "code",
   "execution_count": 39,
   "metadata": {},
   "outputs": [],
   "source": [
    "long_review = \"MacBook review: The most portable MacBook ever is far from the most practical. The new MacBook crams more interesting tech than you can shake a USB (Type-C) stick at into its skinny 12-inch frame. It's a dazzling device for sure, one that would set tongues wagging down at the pub in a heartbeat — but whether it would slot into your life without causing a fuss is an entirely different matter. OS X 10.11 El Capitan features: what's new and what matters The thing is, the new MacBook isn't a MacBook Air with a Retina display, which is what many people on the street were expecting from Apple. While it borrows the MacBook Air's tapered design, along with the MacBook Pro with Retina's high-resolution display and skinny black bezel, its shallow keyboard, Intel Core M processor and single USB Type-C port position it as an entirely new category of laptop. I'm not convinced that power-hungry MacBook owners will rush out to trade their machines for one, but if you're looking for a laptop that's as portable as an iPad and runs OS X, the new MacBook is a luxurious, albeit flawed option. A fashion item with a designer price tag to match, it starts at £1,049 for the entry-level model with 256GB of storage, rising to £1,299 for the more powerful 512GB configuration. New MacBook: Size and build Like Dell's Windows-powered XPS 13, the new MacBook slims down the display's bezel to accommodate more screen. Despite being 12 inches, its footprint is almost identical to the 11-inch MacBook Air, and at 2.03 pounds (versus the Air's 2.38 pounds) barely registers when slung into a backpack for transportation. Measuring just 30 x 19.2 x 1.7cm (W x D x H), the new MacBook is a whisker longer and wider than the 11-inch Air (28 x 19.7 x 1.31cm) while shaving off around half a millimetre in height. It's crafted out of a durable aluminium that stands up well to knocks and scrapes. New MacBook: Features One of Apple's more contentious decisions was to give the new MacBook just one USB Type-C port. Smaller than a standard USB port and reversible, USB Type-C has been hailed as the future because it provides power, a connection to an external display (through DisplayPort, HDMI or VGA) and a USB port. The bad news is that to simultaneously use two or more of the above you'll need to pick up a USB-C Multi Port adapter, which Apple sells for £65. Apple had to make a trade-off between portability and convenience, and if you're set on using wired peripherals or charging your smartphone on the move, sorry: coughing up for and carrying around an adapter is a necessary evil. Along with a switch to USB Type-C, Apple had to engineer an entirely new keyboard and trackpad to make the new MacBook catwalk-thin. The innovative Force Touch Trackpad, which enables a third 'Force' click by pressing down on the trackpad with a certain degree of pressure, can be used for anything from activating a Quick Look preview to annotating attachments or seeing a file's information. Where traditional keyboards use a scissor mechanism, which tends to wobble around the edges, the new MacBook's keyboard uses Apple's new butterfly hinge under each individually-backlit key. Made from a single, strong piece of material, it makes every keypress responsive wherever you hit it. While precise, it provides minimal travel and feels closer to typing on an on-screen keyboard than a traditional tactile one. If you're looking to buy the new MacBook to hammer out long documents on the regular, see if you can try its keyboard out first - or you may find yourself taking advantage of Apple's 14-day returns policy. The new MacBook's speakers provide surprisingly loud and clear sound at high volumes with punchy mid-range tones and, for their size, impressive low-end. New MacBook: Display The centrepiece of the new MacBook, its 2,304 x 1,440 pixel-resolution display is a sight to behold. At 226 pixels-per-inch (PPI), it goes toe-to-toe with the 13-inch MacBook Pro with Retina (227 PPI) - I'd go as far to say that the new MacBook's thinner black bezel makes it the more attractive of the two. It's an IPS variant, which means bold colours, deep blacks and excellent viewing angles; crank up the brightness and you can even read websites comfortably outdoors - although you'll have to put up with screen glare and reflections. By default, OS X sets the resolution to 1,280 x 800, which renders crisp text, smooth lines and sharp images but leaves little room on the desktop for apps and windows. Upping it to 1,440 x 900 strikes a better balance between usable space and image quality. New MacBook: Performance The new MacBook houses Intel's Core M processor, which brings a few advantages and disadvantages. On the plus side, it uses so little power that Apple didn't need to put a fan inside, lending to its thin-ness. No fan means no noise, and very little heat dissipation - even when you're pushing the machine to its limits. So, here's the not so good part. Core M, a chip designed for mobile devices and 2-in-1 hybrids, is a good deal slower than the Core-series processors found in today's MacBook Air and MacBook Pro with Retina models, and as such isn't well-suited to heavy computing tasks such as editing large image files, videos and 3D rendering. On the other hand, the new MacBook's 8GB of RAM and fast 128GB or 256GB SSD mean it's easily nippy enough for everyday tasks - such as surfing the web, editing small-medium image files, streaming video, writing documents and even some (very) light gaming thanks to its integrated HD 5300 graphics. New MacBook: Battery Rather than a traditional rectangular battery, Apple came up with a terraced, contoured battery design to better fit the new MacBook's slim dimensions. Rated at 39.7Whr, it fell just short of Apple's 9-hour batter life claim during T3's rigorous battery life test, clocking in at just over 7 hours when looping a 1080p video over Wi-Fi. That's still impressive when you consider that it's driving all of those pixels, but if you value battery life above all else then the 13-inch MacBook Air, which has the legs to go for up to 12 hours, is still the king. New MacBook: Verdict A genuinely unique laptop for those seeking a Retina display in the most compact and light chassis around, the fact remains that the new MacBook's many compromises mean it won't suit everyone. It has the ability to stun and confuse in equal measure, packing enough power to be used as your main machine, depending on what you do. But even then you'll have to put up with switching adapters when hooking up monitors and wired peripherals and re-train your fingers to adapt to the keyboard's lack of tactile feedback. If money is no object, and you're prepared to see past its deficiencies, Apple's gorgeous new MacBook glistens like gold (literally, if you opt for it in Gold, rather than Silver or Space Grey). For everyone else, it may be worth at least holding out for a successor with one more USB port to appear down the line. New MacBook: is this the way all laptops should be? Including just one USB Type-C port and tampering with the MacBook Air's near-perfect keyboard were daring, if unsurprising moves considering Apple's penchant for minimalism. Holding the new MacBook in the hand is like seeing into the future of laptop design; it's the MacBook Air all over again. Tablets are expected to sell poorly for a second consecutive year in 2015 as people look toward thin and light computers that let them get real work done, an area where the new MacBook excels. But - and it's a biggy - it feels like the new MacBook is ahead of its time and will prove one too many compromises for most people. Using an adapter is awkward compared to full-size USB ports, adds cost and detracts from the machine's slick design. It's likely that future laptop makers - including Apple - will at least do what Google did with the Chromebook Pixel 2 and include two USB Type-C ports to lessen the pain.\"\n",
    "\n",
    "# Enter your code here to perform sentiment analysis of the macbook review\n"
   ]
  },
  {
   "cell_type": "markdown",
   "metadata": {},
   "source": [
    "Is your sentiment analysis accurate? \n",
    "\n",
    "To help you, the full review contains a handy summary of the pros and cons: \n",
    "\n",
    "> REASONS TO BUY\n",
    ">+ Superb __battery__ life   \n",
    ">+ So __portable__           \n",
    ">+ The future of laptop design\n",
    "\n",
    "> REASONS TO AVOID\n",
    ">+ We want more __power__    \n",
    ">+ More USB-C extras needed\n",
    ">+ Can't be your main machine\n",
    "\n",
    "How does your analysis compare?"
   ]
  },
  {
   "cell_type": "markdown",
   "metadata": {},
   "source": [
    "### Algo trading on sentiment\n",
    "\n",
    "In the lectures, we considerd a couple of tweets that moved the stock markets..."
   ]
  },
  {
   "cell_type": "markdown",
   "metadata": {},
   "source": [
    "\"__Hack Crash__\", Associated Press Tweet, 23 April 2013. See [Journal Link For Reference](https://doi.org/10.1177/0263276415583139)\n",
    "\n",
    "> Breaking: Two Explosions in the White House and Barack Obama is injured\n",
    "\n"
   ]
  },
  {
   "cell_type": "markdown",
   "metadata": {},
   "source": [
    "\n",
    "__Muddy Waters__, 6 Aug. 2019 Tweet. See [High Court Trial Papers For Reference](https://www.burfordcapital.com/media/1712/20200401-burford-v-lse-claimants-skeleton-argument-for-trial.pdf)\n",
    "\n",
    "> Muddy Waters is now in a blackout period until tomorrow 8 am London time when we will announce a new short position on an accounting fiasco that’s potentially insolvent and possibly facing a liquidity crunch. Investors are bulled up about this company. We’re not "
   ]
  },
  {
   "cell_type": "code",
   "execution_count": 40,
   "metadata": {},
   "outputs": [],
   "source": [
    "hack_crash_tweet=\"Breaking: Two Explosions in the White House and Barack Obama is injured\"\n",
    "\n",
    "# enter code to analyse the sentiment of this tweet\n"
   ]
  },
  {
   "cell_type": "markdown",
   "metadata": {},
   "source": [
    "__Question__: are you surprised by this result? Can you explain it? If you are hoping to use sentiment analysis of Twitter as part of your algo trading system, is this a problem?"
   ]
  },
  {
   "cell_type": "code",
   "execution_count": 41,
   "metadata": {},
   "outputs": [],
   "source": [
    "muddy_waters_tweet=\"Muddy Waters is now in a blackout period until tomorrow 8 am London time when we will announce a new short position on an accounting fiasco that’s potentially insolvent and possibly facing a liquidity crunch. Investors are bulled up about this company. We’re not\"\n",
    "\n",
    "# enter code to analyse the sentiment of this tweet\n"
   ]
  },
  {
   "cell_type": "markdown",
   "metadata": {},
   "source": [
    "__Question__: are you surprised by this result? Can you explain it? Is this a problem? If you are hoping to use sentiment analysis of Twitter as part of your algo trading system, is this a problem?"
   ]
  }
 ],
 "metadata": {
  "kernelspec": {
   "display_name": "Python 3 (ipykernel)",
   "language": "python",
   "name": "python3"
  },
  "language_info": {
   "codemirror_mode": {
    "name": "ipython",
    "version": 3
   },
   "file_extension": ".py",
   "mimetype": "text/x-python",
   "name": "python",
   "nbconvert_exporter": "python",
   "pygments_lexer": "ipython3",
   "version": "3.11.7"
  },
  "vscode": {
   "interpreter": {
    "hash": "67e12d1ba03b1da863a0f7a88335706d3655621778fa1aa37ed7a7fc2d6befec"
   }
  }
 },
 "nbformat": 4,
 "nbformat_minor": 4
}
